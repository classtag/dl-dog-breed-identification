{
 "cells": [
  {
   "cell_type": "markdown",
   "metadata": {
    "deletable": true,
    "editable": true
   },
   "source": [
    "# Build a classifier via a sample softmax\n",
    "## load features"
   ]
  },
  {
   "cell_type": "code",
   "execution_count": null,
   "metadata": {
    "collapsed": false,
    "deletable": true,
    "editable": true
   },
   "outputs": [],
   "source": [
    "import os\n",
    "import numpy as np\n",
    "import h5py\n",
    "from tqdm import tqdm\n",
    "\n",
    "import mxnet as mx\n",
    "from mxnet.gluon import nn\n",
    "from mxnet import autograd\n",
    "from mxnet import gluon\n",
    "from mxnet import image\n",
    "from mxnet import init\n",
    "from mxnet import ndarray as nd\n",
    "from mxnet.gluon import nn\n",
    "\n",
    "import glob\n",
    "import re\n",
    "import warnings\n",
    "warnings.filterwarnings(\"ignore\")"
   ]
  },
  {
   "cell_type": "code",
   "execution_count": null,
   "metadata": {
    "collapsed": true,
    "deletable": true,
    "editable": true
   },
   "outputs": [],
   "source": [
    "features_train_base_dir = './features/train'\n",
    "features_valid_base_dir = './features/valid'\n",
    "features_tests_base_dir = './features/tests'"
   ]
  },
  {
   "cell_type": "code",
   "execution_count": null,
   "metadata": {
    "collapsed": true,
    "deletable": true,
    "editable": true
   },
   "outputs": [],
   "source": [
    "def load_batch_data(batch_num, batch_size=32, scope=\"train\"):\n",
    "    labls_file_path = \"./features/%s/labls_%03d_%03d.h5\" % (scope, int(batch_size), int(batch_num))\n",
    "    if scope != 'test':\n",
    "        with h5py.File(labls_file_path, 'r') as f:\n",
    "            labls = np.array(f['labels'])\n",
    "    feats_file_regx = \"./features/%s/feats_%03d_%03d_resnet*.h5\" % (scope, batch_size, batch_num)\n",
    "    \n",
    "    feats_files = sorted(glob.glob(feats_file_regx))\n",
    "    feats_all = None\n",
    "    for feats_path in feats_files:\n",
    "        feats_file_name = feats_path.split(\"/\")[-1]\n",
    "        with h5py.File(feats_path, 'r') as f:\n",
    "            feats = np.array(f['features'])\n",
    "            feats = feats.reshape((batch_size, -1))\n",
    "            if feats_all is None:\n",
    "                feats_all = feats\n",
    "            else:\n",
    "                feats_all = np.concatenate([feats_all, feats], axis=-1)\n",
    "    return nd.array(feats_all), nd.array(labls)\n",
    "#     return gluon.data.ArrayDataset(nd.array(feats_all), nd.array(labls))"
   ]
  },
  {
   "cell_type": "code",
   "execution_count": null,
   "metadata": {
    "collapsed": false
   },
   "outputs": [],
   "source": [
    "gluon.data.DataLoader??"
   ]
  },
  {
   "cell_type": "code",
   "execution_count": null,
   "metadata": {
    "collapsed": false
   },
   "outputs": [],
   "source": [
    "load_batch_data(0, scope=\"train\")[0].shape"
   ]
  },
  {
   "cell_type": "code",
   "execution_count": null,
   "metadata": {
    "collapsed": true,
    "deletable": true,
    "editable": true
   },
   "outputs": [],
   "source": [
    "def load_data(batch_cnt, scope):\n",
    "    for num in range(batch_cnt):\n",
    "        X, y = load_batch_data(num, scope=scope)\n",
    "        yield gluon.data.ArrayDataset(nd.array(X), nd.array(y))"
   ]
  },
  {
   "cell_type": "code",
   "execution_count": null,
   "metadata": {
    "collapsed": false,
    "deletable": true,
    "editable": true
   },
   "outputs": [],
   "source": [
    "train_batch_cnt = 697\n",
    "valid_batch_cnt = 90\n",
    "tests_batch_cnt = 90\n",
    "train_data = load_data(train_batch_cnt,\"train\")\n",
    "valid_data = load_data(valid_batch_cnt,\"valid\")\n",
    "tests_data = load_data(tests_batch_cnt,\"tests\")"
   ]
  },
  {
   "cell_type": "code",
   "execution_count": null,
   "metadata": {
    "collapsed": false
   },
   "outputs": [],
   "source": [
    "valid_data"
   ]
  },
  {
   "cell_type": "code",
   "execution_count": null,
   "metadata": {
    "collapsed": true,
    "deletable": true,
    "editable": true
   },
   "outputs": [],
   "source": [
    "from mxnet.gluon.model_zoo import vision as models"
   ]
  },
  {
   "cell_type": "code",
   "execution_count": null,
   "metadata": {
    "collapsed": true,
    "deletable": true,
    "editable": true
   },
   "outputs": [],
   "source": [
    "ctx = mx.gpu()"
   ]
  },
  {
   "cell_type": "code",
   "execution_count": null,
   "metadata": {
    "collapsed": true,
    "deletable": true,
    "editable": true
   },
   "outputs": [],
   "source": [
    "def get_classifier():\n",
    "    num_outputs = 120\n",
    "    net = gluon.nn.Sequential()\n",
    "    with net.name_scope():\n",
    "        net.add(nn.Dense(256, activation='relu'))\n",
    "        net.add(gluon.nn.Dropout(0.5))\n",
    "        net.add(gluon.nn.Dense(num_outputs))\n",
    "        net.initialize(ctx=ctx)\n",
    "    return net"
   ]
  },
  {
   "cell_type": "code",
   "execution_count": null,
   "metadata": {
    "collapsed": true,
    "deletable": true,
    "editable": true
   },
   "outputs": [],
   "source": [
    "softmax_cross_entropy = gluon.loss.SoftmaxCrossEntropyLoss()"
   ]
  },
  {
   "cell_type": "code",
   "execution_count": null,
   "metadata": {
    "collapsed": true,
    "deletable": true,
    "editable": true
   },
   "outputs": [],
   "source": [
    "def accuracy(outputs, labels):\n",
    "    return nd.mean(outputs.argmax(axis=1)==labels).asscalar()"
   ]
  },
  {
   "cell_type": "code",
   "execution_count": null,
   "metadata": {
    "collapsed": true,
    "deletable": true,
    "editable": true
   },
   "outputs": [],
   "source": [
    "def evaluate_accuracy(net):\n",
    "    acc = 0.\n",
    "    loss = 0.\n",
    "    valid_steps = 90\n",
    "    for batch_index in range(valid_steps):\n",
    "        feats, lables = load_batch_data(batch_index,scope='valid')\n",
    "        feats, lables = feats.as_in_context(ctx), lables.as_in_context(ctx)\n",
    "        outputs = net(feats)\n",
    "        acc += accuracy(outputs, lables)\n",
    "        loss += nd.mean(softmax_cross_entropy(outputs, lables)).asscalar()\n",
    "    return loss/valid_steps, acc / valid_steps,"
   ]
  },
  {
   "cell_type": "code",
   "execution_count": null,
   "metadata": {
    "collapsed": false,
    "deletable": true,
    "editable": true
   },
   "outputs": [],
   "source": [
    "def fit(epochs=5):\n",
    "    net = get_classifier()\n",
    "    net.initialize(ctx=mx.gpu(), init=init.Xavier())\n",
    "    trainer = gluon.Trainer(net.collect_params(), 'adam', {'learning_rate': 1e-4, 'wd': 1e-5})\n",
    "    for epoch in range(epochs):\n",
    "        train_loss = 0.\n",
    "        train_acc = 0.\n",
    "        for batch_index in range(679):\n",
    "            feats, labels = load_batch_data(batch_index)\n",
    "            feats, labels = feats.as_in_context(ctx), labels.as_in_context(ctx)\n",
    "            with autograd.record():\n",
    "                outputs = net(feats)\n",
    "                loss = softmax_cross_entropy(outputs, labels)\n",
    "            loss.backward()\n",
    "            trainer.step(32)\n",
    "            train_loss += nd.mean(loss).asscalar()\n",
    "            train_acc += accuracy(outputs, labels)\n",
    "            if batch_index >0 and batch_index % 20 == 0:\n",
    "                print(\"Epoch %d. batch_index: %d. Loss: %f, Train acc %f\" % (epoch, batch_index, train_loss/batch_index, train_acc/batch_index*100))\n",
    "\n",
    "        tests_loss, tests_acc = evaluate_accuracy(net)\n",
    "        print(\"Epoch %d. Loss: %f, Train acc %f. Test loss %f, Test acc %f\" % (epoch+1, train_loss/679, train_acc/679*100, tests_loss,tests_acc))"
   ]
  },
  {
   "cell_type": "code",
   "execution_count": null,
   "metadata": {
    "collapsed": false,
    "deletable": true,
    "editable": true
   },
   "outputs": [],
   "source": [
    "fit()"
   ]
  },
  {
   "cell_type": "code",
   "execution_count": null,
   "metadata": {
    "collapsed": true
   },
   "outputs": [],
   "source": []
  }
 ],
 "metadata": {
  "kernelspec": {
   "display_name": "Python [conda env:gluon]",
   "language": "python",
   "name": "conda-env-gluon-py"
  },
  "language_info": {
   "codemirror_mode": {
    "name": "ipython",
    "version": 3
   },
   "file_extension": ".py",
   "mimetype": "text/x-python",
   "name": "python",
   "nbconvert_exporter": "python",
   "pygments_lexer": "ipython3",
   "version": "3.6.3"
  }
 },
 "nbformat": 4,
 "nbformat_minor": 2
}
