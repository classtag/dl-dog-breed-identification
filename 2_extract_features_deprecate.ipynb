{
 "cells": [
  {
   "cell_type": "markdown",
   "metadata": {},
   "source": [
    "# Extracte features via pretrain models, e.g. vgg, resnet...\n",
    "\n",
    "more can see the [gluon model_zoo](https://mxnet.incubator.apache.org/versions/master/api/python/gluon/model_zoo.html)"
   ]
  },
  {
   "cell_type": "code",
   "execution_count": null,
   "metadata": {
    "collapsed": true
   },
   "outputs": [],
   "source": [
    "# import packages\n",
    "import mxnet as mx\n",
    "from mxnet import autograd\n",
    "from mxnet import gluon\n",
    "from mxnet import image\n",
    "from mxnet import init\n",
    "from mxnet import ndarray as nd\n",
    "from mxnet.gluon import nn\n",
    "from mxnet.gluon.data import vision\n",
    "from mxnet.gluon.model_zoo import vision as models\n",
    "import pandas as pd\n",
    "import numpy as np\n",
    "import shutil\n",
    "import h5py\n",
    "import os\n",
    "import gc\n",
    "from tqdm import tqdm\n",
    "from sklearn.model_selection import train_test_split"
   ]
  },
  {
   "cell_type": "code",
   "execution_count": null,
   "metadata": {
    "collapsed": true
   },
   "outputs": [],
   "source": [
    "# try run via gpu\n",
    "ctx = mx.gpu()"
   ]
  },
  {
   "cell_type": "markdown",
   "metadata": {},
   "source": [
    "Transoform image and label to our target format data\n",
    "\n",
    "为避免过拟合，我们在这里使用`image.CreateAugmenter`来加强数据集。例如我们设`rand_mirror=True`即可随机对每张图片做镜面反转。我们也通过`mean`和`std`对彩色图像RGB三个通道分别做标准化。以下我们列举了该函数里的所有参数，这些参数都是可以调的。"
   ]
  },
  {
   "cell_type": "code",
   "execution_count": null,
   "metadata": {
    "collapsed": true
   },
   "outputs": [],
   "source": [
    "train_augs_params = {\n",
    "    \"resize\":1, \n",
    "    \"rand_crop\":False, \n",
    "    \"rand_resize\":False,\n",
    "    \"rand_mirror\":True,\n",
    "    \"mean\":np.array([0.4914, 0.4822, 0.4465]), \n",
    "    \"std\":np.array([0.2023, 0.1994, 0.2010]),\n",
    "    \"brightness\":0,\n",
    "    \"contrast\":0,\n",
    "    \"saturation\":0,\n",
    "    \"hue\":0,\n",
    "    \"pca_noise\":0,\n",
    "    \"rand_gray\":0,\n",
    "    \"inter_method\":2\n",
    "}\n",
    "\n",
    "# just resize and normalization\n",
    "test_augs_params = {\n",
    "    \"resize\":1,\n",
    "    \"mean\":np.array([0.4914, 0.4822, 0.4465]), \n",
    "    \"std\":np.array([0.2023, 0.1994, 0.2010])\n",
    "}\n",
    "\n",
    "def get_image_augs(shape, scope=\"train\"):\n",
    "    augs_params = train_augs_params if scope == 'train' else test_augs_params\n",
    "    augs_params['data_shape'] =  (0, shape, shape)\n",
    "    augs = image.CreateAugmenter(**augs_params)\n",
    "    return augs\n",
    "\n",
    "augs = get_image_augs(244)\n",
    "\n",
    "def transform_callback(data, label):\n",
    "    '''\n",
    "    transform image data\n",
    "    '''\n",
    "    im = data.astype('float32') / 255\n",
    "    for aug in augs:\n",
    "        im = aug(im)\n",
    "    # 将数据格式从\"高*宽*通道\"改为\"通道*高*宽\"。\n",
    "    im = nd.transpose(im, (2,0,1))\n",
    "    return (im, nd.array([label]).asscalar().astype('float32'))"
   ]
  },
  {
   "cell_type": "markdown",
   "metadata": {},
   "source": [
    "导入 pretrained 模型，并初始化"
   ]
  },
  {
   "cell_type": "code",
   "execution_count": null,
   "metadata": {
    "collapsed": true
   },
   "outputs": [],
   "source": [
    "from mxnet.gluon.model_zoo.vision import *\n",
    "\n",
    "net_list_dict = {\n",
    "    # net_input_shape -> pretrained net\n",
    "    244: [resnet152_v1, densenet161],\n",
    "    299: [inception_v3]\n",
    "}\n",
    "\n",
    "models = {}\n",
    "for net_list in net_list_dict.values():\n",
    "    for net in net_list:\n",
    "        models[net.__name__] = net(pretrained=True, ctx=ctx)"
   ]
  },
  {
   "cell_type": "markdown",
   "metadata": {},
   "source": [
    "definition a function for extractor feature from pretrain model, then concat them together."
   ]
  },
  {
   "cell_type": "code",
   "execution_count": null,
   "metadata": {
    "collapsed": true
   },
   "outputs": [],
   "source": [
    "def extract_features(net_list, net_input_shape, X, y, batch_num, scope = \"train\"):\n",
    "    '''\n",
    "    extract features for a list of pretrained networks\n",
    "    '''\n",
    "    feature_dir = 'features/%s/batch_%05d' % (scope, batch_num)\n",
    "    if not os.path.exists(feature_dir):\n",
    "        os.makedirs(feature_dir)\n",
    "    feature_file = '%s/feature_shape_%03d.h5' % (feature_dir, net_input_shape)\n",
    "    if os.path.exists(feature_file):\n",
    "        return\n",
    "    \n",
    "    features = {}\n",
    "    labels = None\n",
    "    for net in net_list: \n",
    "        net_name = net.__name__\n",
    "        net = models[net_name]\n",
    "        net.collect_params().reset_ctx(ctx) # make sure or network's params on gpu\n",
    "        feature = net.features(X.as_in_context(ctx)).asnumpy()\n",
    "        labels = y.asnumpy()\n",
    "        features[net_name] = feature\n",
    "\n",
    "    # save file\n",
    "    with h5py.File(feature_file, 'w') as f:\n",
    "        for net in net_list:\n",
    "            f[net.__name__] = features[net.__name__]\n",
    "        if scope == 'train':\n",
    "            f['labels'] = labels"
   ]
  },
  {
   "cell_type": "code",
   "execution_count": null,
   "metadata": {
    "collapsed": true
   },
   "outputs": [],
   "source": [
    "def build_features(scope=\"train\", batch_size=32):\n",
    "    imgs = vision.ImageFolderDataset('input/%s' % scope, flag=1, transform=transform_callback)\n",
    "    data = gluon.data.DataLoader(imgs, batch_size)\n",
    "    for net_shape in net_list_dict:\n",
    "        augs = get_image_augs(net_shape, scope)\n",
    "        net_list = net_list_dict[net_shape]\n",
    "        batch_num = 0\n",
    "        for X, y in tqdm(data):\n",
    "            extract_features(net_list, net_shape, X, y, batch_num, scope)\n",
    "            batch_num += 1"
   ]
  },
  {
   "cell_type": "code",
   "execution_count": null,
   "metadata": {
    "collapsed": true,
    "scrolled": false
   },
   "outputs": [],
   "source": [
    "build_features(\"train\")"
   ]
  },
  {
   "cell_type": "code",
   "execution_count": null,
   "metadata": {
    "collapsed": true
   },
   "outputs": [],
   "source": [
    "build_features(\"test\")"
   ]
  }
 ],
 "metadata": {
  "kernelspec": {
   "display_name": "Python [conda env:gluon]",
   "language": "python",
   "name": "conda-env-gluon-py"
  },
  "language_info": {
   "codemirror_mode": {
    "name": "ipython",
    "version": 3
   },
   "file_extension": ".py",
   "mimetype": "text/x-python",
   "name": "python",
   "nbconvert_exporter": "python",
   "pygments_lexer": "ipython3",
   "version": "3.6.3"
  }
 },
 "nbformat": 4,
 "nbformat_minor": 2
}
