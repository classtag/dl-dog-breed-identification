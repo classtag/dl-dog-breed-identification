{
 "cells": [
  {
   "cell_type": "code",
   "execution_count": 1,
   "metadata": {
    "collapsed": true
   },
   "outputs": [],
   "source": [
    "import os\n",
    "import pandas as pd\n",
    "\n",
    "KAGGLE_DS_DIR = \"/home/ubuntu/nbs/data/dog-breed-identification\"\n",
    "labels_file_path = os.path.join(KAGGLE_DS_DIR,\"labels.cvs\")\n",
    "sample_submission_file_path = os.path.join(KAGGLE_DS_DIR,\"sample_submission.csv\")\n",
    "train_img_dir = os.path.join(KAGGLE_DS_DIR,\"train\")\n",
    "test_img_dir = os.path.join(KAGGLE_DS_DIR,\"test\")"
   ]
  },
  {
   "cell_type": "code",
   "execution_count": null,
   "metadata": {
    "collapsed": true
   },
   "outputs": [],
   "source": [
    "df = pd.read_csv(labels_file_path)\n",
    "path = 'for_train'\n",
    "for i, (fname, breed) in df.iterrows():\n",
    "    breed_imgs_dir = '%s/%s' % (path, breed)\n",
    "    if not os.path.exists(breed_imgs_dir):\n",
    "        os.makedirs(breed_imgs_dir)\n",
    "    os.symlink('%s/%s.jpg' % (train_img_dir, fname), '%s/%s.jpg' % (breed_imgs_dir, fname))\n",
    "\n",
    "# for test imgs\n",
    "df = pd.read_csv('/home/ubuntu/nbs/gluon-tutorials-zh/data/kaggle_dog/sample_submission.csv')\n",
    "path = 'for_test'\n",
    "breed = 'unkown'\n",
    "for fname in df['id']:\n",
    "    breed_imgs_dir = '%s/%s' % (path, breed)\n",
    "    if not os.path.exists(breed_imgs_dir):\n",
    "        os.makedirs(breed_imgs_dir)\n",
    "    os.symlink('%s/%s.jpg' % (test_img_dir, fname), '%s/%s.jpg' % (breed_imgs_dir, fname))"
   ]
  }
 ],
 "metadata": {
  "kernelspec": {
   "display_name": "Python [conda env:gluon]",
   "language": "python",
   "name": "conda-env-gluon-py"
  },
  "language_info": {
   "codemirror_mode": {
    "name": "ipython",
    "version": 3
   },
   "file_extension": ".py",
   "mimetype": "text/x-python",
   "name": "python",
   "nbconvert_exporter": "python",
   "pygments_lexer": "ipython3",
   "version": "3.6.3"
  }
 },
 "nbformat": 4,
 "nbformat_minor": 2
}
