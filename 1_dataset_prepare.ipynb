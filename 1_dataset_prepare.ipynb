{
 "cells": [
  {
   "cell_type": "markdown",
   "metadata": {},
   "source": [
    "# Dataset Prepare\n",
    "I will merge kaggle train data and Stanford ImageDog DataSet into a train data set for this com\n",
    "Kaggle dataset can run kaggle-cli downlown."
   ]
  },
  {
   "cell_type": "code",
   "execution_count": 1,
   "metadata": {
    "collapsed": true
   },
   "outputs": [],
   "source": [
    "import os\n",
    "import pandas as pd\n",
    "import shutil\n",
    "import xml.etree.ElementTree\n",
    "from mxnet import gluon\n",
    "from collections import Counter\n",
    "import math"
   ]
  },
  {
   "cell_type": "code",
   "execution_count": 2,
   "metadata": {
    "collapsed": true
   },
   "outputs": [],
   "source": [
    "from mxnet.gluon.model_zoo import vision as models\n",
    "import mxnet as mx"
   ]
  },
  {
   "cell_type": "code",
   "execution_count": 3,
   "metadata": {
    "collapsed": true
   },
   "outputs": [],
   "source": [
    "stanford_dataset_dir = \"/home/ubuntu/nbs/data/ImageNetDogs\"\n",
    "stanford_images_root_dir = os.path.join(stanford_dataset_dir, 'Images')\n",
    "stanford_annotations_root_dir = os.path.join(stanford_dataset_dir, 'Annotation')"
   ]
  },
  {
   "cell_type": "code",
   "execution_count": 4,
   "metadata": {
    "collapsed": true
   },
   "outputs": [],
   "source": [
    "kaggle_dataset_dir = \"/home/ubuntu/nbs/data/dog-breed-identification\"\n",
    "kaggle_labels_file_path = os.path.join(kaggle_dataset_dir, \"labels.csv\")\n",
    "kaggle_submission_file_path = os.path.join(kaggle_dataset_dir, \"sample_submission.csv\")\n",
    "kaggle_train_images_root_dir = os.path.join(kaggle_dataset_dir,\"train\")\n",
    "kaggle_tests_images_root_dir = os.path.join(kaggle_dataset_dir,\"tests\")"
   ]
  },
  {
   "cell_type": "code",
   "execution_count": 5,
   "metadata": {
    "collapsed": true
   },
   "outputs": [],
   "source": [
    "def parse_stanford_annotation(path):\n",
    "    xml_root = xml.etree.ElementTree.parse(path).getroot()\n",
    "    object = xml_root.findall('object')[0]\n",
    "    name = object.findall('name')[0].text.lower()\n",
    "    bound_box = object.findall('bndbox')[0]\n",
    "\n",
    "    return {\n",
    "        'breed': name,\n",
    "        'bndbox_xmin': bound_box.findall('xmin')[0].text,\n",
    "        'bndbox_ymin': bound_box.findall('ymin')[0].text,\n",
    "        'bndbox_xmax': bound_box.findall('xmax')[0].text,\n",
    "        'bndbox_ymax': bound_box.findall('ymax')[0].text\n",
    "    }"
   ]
  },
  {
   "cell_type": "code",
   "execution_count": 6,
   "metadata": {
    "collapsed": true
   },
   "outputs": [],
   "source": [
    "def get_stanford_image_path(breed_dir, filename):\n",
    "    return os.path.join(stanford_images_root_dir, breed_dir, filename + '.jpg')"
   ]
  },
  {
   "cell_type": "markdown",
   "metadata": {},
   "source": [
    "# 将stanford 和 kaggle的图片数据依据breed放到对应的文件夹下"
   ]
  },
  {
   "cell_type": "code",
   "execution_count": 7,
   "metadata": {
    "collapsed": true
   },
   "outputs": [],
   "source": [
    "train_img_dir = 'input/train'\n",
    "if os.path.exists(train_img_dir):\n",
    "    shutil.rmtree(train_img_dir)\n",
    "\n",
    "valid_img_dir = 'input/valid'\n",
    "if os.path.exists(valid_img_dir):\n",
    "    shutil.rmtree(valid_img_dir)\n",
    "    \n",
    "test_img_dir = 'input/test'\n",
    "if os.path.exists(test_img_dir):\n",
    "    shutil.rmtree(test_img_dir)"
   ]
  },
  {
   "cell_type": "code",
   "execution_count": 8,
   "metadata": {
    "collapsed": true
   },
   "outputs": [],
   "source": [
    "valid_ratio = 0.3"
   ]
  },
  {
   "cell_type": "code",
   "execution_count": 9,
   "metadata": {
    "collapsed": true
   },
   "outputs": [],
   "source": [
    "# create symlink for stanford dataset train imgages\n",
    "for breed_dir in [d for d in os.listdir(stanford_annotations_root_dir)]:\n",
    "    \n",
    "    num_image = len(os.listdir(os.path.join(stanford_images_root_dir,breed_dir)))\n",
    "    num_valid = math.floor(num_image * valid_ratio)\n",
    "    cnt_image = 0\n",
    "    for annotation_file in [f for f in os.listdir(os.path.join(stanford_annotations_root_dir, breed_dir))]:\n",
    "        annotation = parse_stanford_annotation(os.path.join(stanford_annotations_root_dir, breed_dir, annotation_file))\n",
    "        image_path = get_stanford_image_path(breed_dir, annotation_file)\n",
    "        image_file = image_path.split(\"/\")[-1]\n",
    "        image_name = image_file.split('.')[0]\n",
    "        breed = annotation['breed']\n",
    "        breed_img_dir = ''\n",
    "        \n",
    "        if cnt_image > num_valid:\n",
    "            breed_img_dir = '%s/%s' % (train_img_dir, breed)\n",
    "        else:\n",
    "            breed_img_dir = '%s/%s' % (valid_img_dir, breed)\n",
    "        \n",
    "        if not os.path.exists(breed_img_dir):\n",
    "            os.makedirs(breed_img_dir)\n",
    "        os.symlink(image_path, '%s/%s.jpg' % (breed_img_dir, image_name))\n",
    "        cnt_image += 1"
   ]
  },
  {
   "cell_type": "code",
   "execution_count": 10,
   "metadata": {
    "collapsed": true
   },
   "outputs": [],
   "source": [
    "# create symlink for kaggle dataset train images\n",
    "kg_labels = pd.read_csv(kaggle_labels_file_path)\n",
    "min_num_train_per_label = (Counter(kg_labels['breed']).most_common()[:-2:-1][0][1])\n",
    "# 验证集中每类狗的数量。\n",
    "num_valid_per_label = math.floor(min_num_train_per_label * valid_ratio)\n",
    "breed_count = dict()\n",
    "\n",
    "for _, (image_name, breed) in kg_labels.iterrows():\n",
    "    breed_count[breed] = breed_count.get(breed, 0) + 1\n",
    "    breed_imgs_dir = ''\n",
    "    if breed_count[breed] > num_valid_per_label:\n",
    "        # copy to vaild dir\n",
    "        breed_imgs_dir = '%s/%s' % (train_img_dir, breed)\n",
    "    else:\n",
    "        breed_imgs_dir = '%s/%s' % (valid_img_dir, breed)\n",
    "    if not os.path.exists(breed_imgs_dir):\n",
    "        os.makedirs(breed_imgs_dir)\n",
    "    os.symlink('%s/%s.jpg' % (kaggle_train_images_root_dir, image_name), '%s/%s.jpg' % (breed_imgs_dir, image_name))"
   ]
  },
  {
   "cell_type": "code",
   "execution_count": 11,
   "metadata": {
    "collapsed": true
   },
   "outputs": [],
   "source": [
    "# create symlink for kaggle dataset test images\n",
    "kg_submission = pd.read_csv(kaggle_submission_file_path)\n",
    "breed = '0'\n",
    "for fname in kg_submission['id']:\n",
    "    breed_imgs_dir = '%s/%s' % (test_img_dir, breed)\n",
    "    if not os.path.exists(breed_imgs_dir):\n",
    "        os.makedirs(breed_imgs_dir)\n",
    "    os.symlink('%s/%s.jpg' % (kaggle_tests_images_root_dir, fname), '%s/%s.jpg' % (breed_imgs_dir, fname))"
   ]
  }
 ],
 "metadata": {
  "kernelspec": {
   "display_name": "Python [conda env:gluon]",
   "language": "python",
   "name": "conda-env-gluon-py"
  },
  "language_info": {
   "codemirror_mode": {
    "name": "ipython",
    "version": 3
   },
   "file_extension": ".py",
   "mimetype": "text/x-python",
   "name": "python",
   "nbconvert_exporter": "python",
   "pygments_lexer": "ipython3",
   "version": "3.6.3"
  }
 },
 "nbformat": 4,
 "nbformat_minor": 2
}
